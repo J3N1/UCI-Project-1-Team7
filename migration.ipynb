{
 "cells": [
  {
   "cell_type": "code",
   "execution_count": 1,
   "metadata": {},
   "outputs": [],
   "source": [
    "# Dependencies\n",
    "import pandas as pd\n",
    "import numpy as np\n",
    "import matplotlib.pyplot as plt\n",
    "import requests\n",
    "from census import Census\n",
    "from us import states\n",
    "from scipy.stats import linregress\n",
    "import scipy.stats as st\n",
    "\n",
    "# Census Api Key\n",
    "from config import (api_key)"
   ]
  },
  {
   "cell_type": "markdown",
   "metadata": {},
   "source": [
    "# Migration of People Moving In and Out of CA"
   ]
  },
  {
   "cell_type": "code",
   "execution_count": 2,
   "metadata": {},
   "outputs": [
    {
     "data": {
      "text/html": [
       "<div>\n",
       "<style scoped>\n",
       "    .dataframe tbody tr th:only-of-type {\n",
       "        vertical-align: middle;\n",
       "    }\n",
       "\n",
       "    .dataframe tbody tr th {\n",
       "        vertical-align: top;\n",
       "    }\n",
       "\n",
       "    .dataframe thead th {\n",
       "        text-align: right;\n",
       "    }\n",
       "</style>\n",
       "<table border=\"1\" class=\"dataframe\">\n",
       "  <thead>\n",
       "    <tr style=\"text-align: right;\">\n",
       "      <th></th>\n",
       "      <th>Year</th>\n",
       "      <th>Into CA</th>\n",
       "      <th>Leaving CA</th>\n",
       "      <th>Difference</th>\n",
       "    </tr>\n",
       "  </thead>\n",
       "  <tbody>\n",
       "    <tr>\n",
       "      <th>0</th>\n",
       "      <td>2013</td>\n",
       "      <td>485,477</td>\n",
       "      <td>581,679</td>\n",
       "      <td>96,202</td>\n",
       "    </tr>\n",
       "    <tr>\n",
       "      <th>1</th>\n",
       "      <td>2014</td>\n",
       "      <td>513,968</td>\n",
       "      <td>593,308</td>\n",
       "      <td>79,340</td>\n",
       "    </tr>\n",
       "    <tr>\n",
       "      <th>2</th>\n",
       "      <td>2015</td>\n",
       "      <td>514,477</td>\n",
       "      <td>643,710</td>\n",
       "      <td>129,233</td>\n",
       "    </tr>\n",
       "    <tr>\n",
       "      <th>3</th>\n",
       "      <td>2016</td>\n",
       "      <td>514,758</td>\n",
       "      <td>657,690</td>\n",
       "      <td>142,932</td>\n",
       "    </tr>\n",
       "    <tr>\n",
       "      <th>4</th>\n",
       "      <td>2017</td>\n",
       "      <td>523,131</td>\n",
       "      <td>661,026</td>\n",
       "      <td>137,895</td>\n",
       "    </tr>\n",
       "    <tr>\n",
       "      <th>5</th>\n",
       "      <td>2018</td>\n",
       "      <td>501,023</td>\n",
       "      <td>691,145</td>\n",
       "      <td>190,122</td>\n",
       "    </tr>\n",
       "  </tbody>\n",
       "</table>\n",
       "</div>"
      ],
      "text/plain": [
       "   Year  Into CA Leaving CA Difference\n",
       "0  2013  485,477    581,679     96,202\n",
       "1  2014  513,968    593,308     79,340\n",
       "2  2015  514,477    643,710    129,233\n",
       "3  2016  514,758    657,690    142,932\n",
       "4  2017  523,131    661,026    137,895\n",
       "5  2018  501,023    691,145    190,122"
      ]
     },
     "execution_count": 2,
     "metadata": {},
     "output_type": "execute_result"
    }
   ],
   "source": [
    "# To Create Migration Data Frame from Data collected from various excel files from the census\n",
    "migration_df = pd.DataFrame({\n",
    "    \"Year\":[\"2013\", \"2014\", \"2015\", \"2016\", \"2017\", \"2018\"],\n",
    "    \"Into CA\":[485477, 513968, 514477, 514758, 523131, 501023],\n",
    "    \"Leaving CA\":[581679, 593308, 643710, 657690, 661026, 691145],\n",
    "    \"Difference\": [96202, 79340, 129233, 142932, 137895, 190122]})\n",
    "\n",
    "# To format the columns\n",
    "migration_df[\"Into CA\"] = migration_df[\"Into CA\"].map(\"{:,}\".format)\n",
    "migration_df[\"Leaving CA\"] = migration_df[\"Leaving CA\"].map(\"{:,}\".format)\n",
    "migration_df[\"Difference\"] = migration_df[\"Difference\"].map(\"{:,}\".format)\n",
    "migration_df"
   ]
  },
  {
   "cell_type": "code",
   "execution_count": 3,
   "metadata": {},
   "outputs": [
    {
     "data": {
      "image/png": "[encoded data removed]",
      "text/plain": [
       "<Figure size 720x720 with 1 Axes>"
      ]
     },
     "metadata": {
      "needs_background": "light"
     },
     "output_type": "display_data"
    }
   ],
   "source": [
    "# Use the information from the DataFrame to create an array\n",
    "labels = [\"2013\", \"2014\", \"2015\", \"2016\", \"2017\", \"2018\"]\n",
    "Into_CA = [485477, 513968, 514477, 514758, 523131, 501023]\n",
    "Leaving_CA =[581679, 593308, 643710, 657690, 661026, 691145]\n",
    "\n",
    "# Set the label and width for the bar chart\n",
    "x_axis = np.arange(len(labels))\n",
    "width = 0.35\n",
    "\n",
    "# Create bar graph \n",
    "fig, ax = plt.subplots(figsize=(10,10))\n",
    "fig1 = ax.bar(x_axis - width/2, Into_CA, width, color = \"green\", label = \"Into CA\")\n",
    "fig2 = ax.bar(x_axis + width/2, Leaving_CA, width, color = \"red\", label = \"Leaving CA\")\n",
    "\n",
    "# Set x-axis label, y-axis label, title, and legend for the bar graph\n",
    "ax.set_ylabel(\"Number of People\")\n",
    "ax.set_xlabel(\"Year\")\n",
    "ax.set_title(\"People Moving into and Leaving from CA\")\n",
    "ax.set_xticks(x_axis)\n",
    "ax.set_xticklabels(migration_df[\"Year\"])\n",
    "ax.legend()\n",
    "fig.tight_layout()\n",
    "plt.show()"
   ]
  },
  {
   "cell_type": "markdown",
   "metadata": {},
   "source": [
    " - Over the years, the number of people who have moved out of CA have increased. The number of people of people moving out of CA has increased by approximately 93,920 people between 2013-2018."
   ]
  },
  {
   "cell_type": "markdown",
   "metadata": {},
   "source": [
    "# Collecting and Cleaning Data"
   ]
  },
  {
   "cell_type": "code",
   "execution_count": 4,
   "metadata": {},
   "outputs": [
    {
     "data": {
      "text/html": [
       "<div>\n",
       "<style scoped>\n",
       "    .dataframe tbody tr th:only-of-type {\n",
       "        vertical-align: middle;\n",
       "    }\n",
       "\n",
       "    .dataframe tbody tr th {\n",
       "        vertical-align: top;\n",
       "    }\n",
       "\n",
       "    .dataframe thead th {\n",
       "        text-align: right;\n",
       "    }\n",
       "</style>\n",
       "<table border=\"1\" class=\"dataframe\">\n",
       "  <thead>\n",
       "    <tr style=\"text-align: right;\">\n",
       "      <th></th>\n",
       "      <th>State</th>\n",
       "      <th>Name</th>\n",
       "      <th>Population</th>\n",
       "      <th>Per Capita Income</th>\n",
       "      <th>Poverty Count</th>\n",
       "      <th>Poverty Rate</th>\n",
       "    </tr>\n",
       "  </thead>\n",
       "  <tbody>\n",
       "    <tr>\n",
       "      <th>0</th>\n",
       "      <td>06</td>\n",
       "      <td>California</td>\n",
       "      <td>37659181.0</td>\n",
       "      <td>29527.0</td>\n",
       "      <td>5885417.0</td>\n",
       "      <td>15.628107</td>\n",
       "    </tr>\n",
       "  </tbody>\n",
       "</table>\n",
       "</div>"
      ],
      "text/plain": [
       "  State        Name  Population  Per Capita Income  Poverty Count  \\\n",
       "0    06  California  37659181.0            29527.0      5885417.0   \n",
       "\n",
       "   Poverty Rate  \n",
       "0     15.628107  "
      ]
     },
     "execution_count": 4,
     "metadata": {},
     "output_type": "execute_result"
    }
   ],
   "source": [
    "c = Census(api_key, year = 2013)\n",
    "\n",
    "firstdata = c.acs5.get((\"NAME\",\"B01003_001E\",\"B19301_001E\", \"B17001_002E\"), {'for': 'state:06'})\n",
    "first_pd = pd.DataFrame(firstdata)\n",
    "\n",
    "first_pd = first_pd.rename(columns={\"B01003_001E\": \"Population\",\n",
    "                                   \"B19301_001E\": \"Per Capita Income\",\n",
    "                                   \"B17001_002E\": \"Poverty Count\",\n",
    "                                   \"NAME\": \"Name\", \"state\": \"State\"})\n",
    "first_pd[\"Poverty Rate\"] = 100 * first_pd[\"Poverty Count\"].astype(int)/first_pd[\"Population\"].astype(int)\n",
    "\n",
    "first_pd = first_pd[[\"State\", \"Name\", \"Population\", \"Per Capita Income\", \"Poverty Count\", \"Poverty Rate\"]]\n",
    "first_pd"
   ]
  },
  {
   "cell_type": "code",
   "execution_count": 5,
   "metadata": {},
   "outputs": [
    {
     "data": {
      "text/html": [
       "<div>\n",
       "<style scoped>\n",
       "    .dataframe tbody tr th:only-of-type {\n",
       "        vertical-align: middle;\n",
       "    }\n",
       "\n",
       "    .dataframe tbody tr th {\n",
       "        vertical-align: top;\n",
       "    }\n",
       "\n",
       "    .dataframe thead th {\n",
       "        text-align: right;\n",
       "    }\n",
       "</style>\n",
       "<table border=\"1\" class=\"dataframe\">\n",
       "  <thead>\n",
       "    <tr style=\"text-align: right;\">\n",
       "      <th></th>\n",
       "      <th>State</th>\n",
       "      <th>Name</th>\n",
       "      <th>Population</th>\n",
       "      <th>Per Capita Income</th>\n",
       "      <th>Poverty Count</th>\n",
       "      <th>Poverty Rate</th>\n",
       "    </tr>\n",
       "  </thead>\n",
       "  <tbody>\n",
       "    <tr>\n",
       "      <th>0</th>\n",
       "      <td>06</td>\n",
       "      <td>California</td>\n",
       "      <td>38066920.0</td>\n",
       "      <td>29906.0</td>\n",
       "      <td>6115244.0</td>\n",
       "      <td>16.064457</td>\n",
       "    </tr>\n",
       "  </tbody>\n",
       "</table>\n",
       "</div>"
      ],
      "text/plain": [
       "  State        Name  Population  Per Capita Income  Poverty Count  \\\n",
       "0    06  California  38066920.0            29906.0      6115244.0   \n",
       "\n",
       "   Poverty Rate  \n",
       "0     16.064457  "
      ]
     },
     "execution_count": 5,
     "metadata": {},
     "output_type": "execute_result"
    }
   ],
   "source": [
    "c = Census(api_key, year = 2014)\n",
    "\n",
    "seconddata = c.acs5.get((\"NAME\",\"B01003_001E\",\"B19301_001E\", \"B17001_002E\"), {'for': 'state:06'})\n",
    "second_pd = pd.DataFrame(seconddata)\n",
    "\n",
    "second_pd = second_pd.rename(columns={\"B01003_001E\": \"Population\",\n",
    "                                   \"B19301_001E\": \"Per Capita Income\",\n",
    "                                   \"B17001_002E\": \"Poverty Count\",\n",
    "                                   \"NAME\": \"Name\", \"state\": \"State\"})\n",
    "\n",
    "second_pd[\"Poverty Rate\"] = 100 * second_pd[\"Poverty Count\"].astype(int)/second_pd[\"Population\"].astype(int)\n",
    "\n",
    "second_pd = second_pd[[\"State\", \"Name\", \"Population\", \"Per Capita Income\", \"Poverty Count\", \"Poverty Rate\"]]\n",
    "second_pd"
   ]
  },
  {
   "cell_type": "code",
   "execution_count": 6,
   "metadata": {},
   "outputs": [
    {
     "data": {
      "text/html": [
       "<div>\n",
       "<style scoped>\n",
       "    .dataframe tbody tr th:only-of-type {\n",
       "        vertical-align: middle;\n",
       "    }\n",
       "\n",
       "    .dataframe tbody tr th {\n",
       "        vertical-align: top;\n",
       "    }\n",
       "\n",
       "    .dataframe thead th {\n",
       "        text-align: right;\n",
       "    }\n",
       "</style>\n",
       "<table border=\"1\" class=\"dataframe\">\n",
       "  <thead>\n",
       "    <tr style=\"text-align: right;\">\n",
       "      <th></th>\n",
       "      <th>State</th>\n",
       "      <th>Name</th>\n",
       "      <th>Population</th>\n",
       "      <th>Per Capita Income</th>\n",
       "      <th>Poverty Count</th>\n",
       "      <th>Poverty Rate</th>\n",
       "    </tr>\n",
       "  </thead>\n",
       "  <tbody>\n",
       "    <tr>\n",
       "      <th>0</th>\n",
       "      <td>06</td>\n",
       "      <td>California</td>\n",
       "      <td>38421464.0</td>\n",
       "      <td>30318.0</td>\n",
       "      <td>6135142.0</td>\n",
       "      <td>15.968007</td>\n",
       "    </tr>\n",
       "  </tbody>\n",
       "</table>\n",
       "</div>"
      ],
      "text/plain": [
       "  State        Name  Population  Per Capita Income  Poverty Count  \\\n",
       "0    06  California  38421464.0            30318.0      6135142.0   \n",
       "\n",
       "   Poverty Rate  \n",
       "0     15.968007  "
      ]
     },
     "execution_count": 6,
     "metadata": {},
     "output_type": "execute_result"
    }
   ],
   "source": [
    "c = Census(api_key, year = 2015)\n",
    "\n",
    "thirddata = c.acs5.get((\"NAME\",\"B01003_001E\",\"B19301_001E\", \"B17001_002E\"), {'for': 'state:06'})\n",
    "third_pd = pd.DataFrame(thirddata)\n",
    "\n",
    "third_pd = third_pd.rename(columns={\"B01003_001E\": \"Population\",\n",
    "                                   \"B19301_001E\": \"Per Capita Income\",\n",
    "                                   \"B17001_002E\": \"Poverty Count\",\n",
    "                                   \"NAME\": \"Name\", \"state\": \"State\"})\n",
    "\n",
    "third_pd[\"Poverty Rate\"] = 100 * third_pd[\"Poverty Count\"].astype(int)/third_pd[\"Population\"].astype(int)\n",
    "\n",
    "third_pd = third_pd[[\"State\", \"Name\", \"Population\", \"Per Capita Income\", \"Poverty Count\", \"Poverty Rate\"]]\n",
    "third_pd"
   ]
  },
  {
   "cell_type": "code",
   "execution_count": 7,
   "metadata": {},
   "outputs": [
    {
     "data": {
      "text/html": [
       "<div>\n",
       "<style scoped>\n",
       "    .dataframe tbody tr th:only-of-type {\n",
       "        vertical-align: middle;\n",
       "    }\n",
       "\n",
       "    .dataframe tbody tr th {\n",
       "        vertical-align: top;\n",
       "    }\n",
       "\n",
       "    .dataframe thead th {\n",
       "        text-align: right;\n",
       "    }\n",
       "</style>\n",
       "<table border=\"1\" class=\"dataframe\">\n",
       "  <thead>\n",
       "    <tr style=\"text-align: right;\">\n",
       "      <th></th>\n",
       "      <th>State</th>\n",
       "      <th>Name</th>\n",
       "      <th>Population</th>\n",
       "      <th>Per Capita Income</th>\n",
       "      <th>Poverty Count</th>\n",
       "      <th>Poverty Rate</th>\n",
       "    </tr>\n",
       "  </thead>\n",
       "  <tbody>\n",
       "    <tr>\n",
       "      <th>0</th>\n",
       "      <td>06</td>\n",
       "      <td>California</td>\n",
       "      <td>38654206.0</td>\n",
       "      <td>31458.0</td>\n",
       "      <td>6004257.0</td>\n",
       "      <td>15.533257</td>\n",
       "    </tr>\n",
       "  </tbody>\n",
       "</table>\n",
       "</div>"
      ],
      "text/plain": [
       "  State        Name  Population  Per Capita Income  Poverty Count  \\\n",
       "0    06  California  38654206.0            31458.0      6004257.0   \n",
       "\n",
       "   Poverty Rate  \n",
       "0     15.533257  "
      ]
     },
     "execution_count": 7,
     "metadata": {},
     "output_type": "execute_result"
    }
   ],
   "source": [
    "c = Census(api_key, year = 2016)\n",
    "\n",
    "fourthdata = c.acs5.get((\"NAME\",\"B01003_001E\",\"B19301_001E\", \"B17001_002E\"), {'for': 'state:06'})\n",
    "fourth_pd = pd.DataFrame(fourthdata)\n",
    "\n",
    "fourth_pd = fourth_pd.rename(columns={\"B01003_001E\": \"Population\",\n",
    "                                   \"B19301_001E\": \"Per Capita Income\",\n",
    "                                   \"B17001_002E\": \"Poverty Count\",\n",
    "                                   \"NAME\": \"Name\", \"state\": \"State\"})\n",
    "\n",
    "fourth_pd[\"Poverty Rate\"] = 100 * fourth_pd[\"Poverty Count\"].astype(int)/fourth_pd[\"Population\"].astype(int)\n",
    "\n",
    "fourth_pd = fourth_pd[[\"State\", \"Name\", \"Population\", \"Per Capita Income\", \"Poverty Count\", \"Poverty Rate\"]]\n",
    "fourth_pd"
   ]
  },
  {
   "cell_type": "code",
   "execution_count": 8,
   "metadata": {},
   "outputs": [
    {
     "data": {
      "text/html": [
       "<div>\n",
       "<style scoped>\n",
       "    .dataframe tbody tr th:only-of-type {\n",
       "        vertical-align: middle;\n",
       "    }\n",
       "\n",
       "    .dataframe tbody tr th {\n",
       "        vertical-align: top;\n",
       "    }\n",
       "\n",
       "    .dataframe thead th {\n",
       "        text-align: right;\n",
       "    }\n",
       "</style>\n",
       "<table border=\"1\" class=\"dataframe\">\n",
       "  <thead>\n",
       "    <tr style=\"text-align: right;\">\n",
       "      <th></th>\n",
       "      <th>State</th>\n",
       "      <th>Name</th>\n",
       "      <th>Population</th>\n",
       "      <th>Per Capita Income</th>\n",
       "      <th>Poverty Count</th>\n",
       "      <th>Poverty Rate</th>\n",
       "    </tr>\n",
       "  </thead>\n",
       "  <tbody>\n",
       "    <tr>\n",
       "      <th>0</th>\n",
       "      <td>06</td>\n",
       "      <td>California</td>\n",
       "      <td>38982847.0</td>\n",
       "      <td>33128.0</td>\n",
       "      <td>5773408.0</td>\n",
       "      <td>14.810124</td>\n",
       "    </tr>\n",
       "  </tbody>\n",
       "</table>\n",
       "</div>"
      ],
      "text/plain": [
       "  State        Name  Population  Per Capita Income  Poverty Count  \\\n",
       "0    06  California  38982847.0            33128.0      5773408.0   \n",
       "\n",
       "   Poverty Rate  \n",
       "0     14.810124  "
      ]
     },
     "execution_count": 8,
     "metadata": {},
     "output_type": "execute_result"
    }
   ],
   "source": [
    "c = Census(api_key, year = 2017)\n",
    "\n",
    "fifthdata = c.acs5.get((\"NAME\",\"B01003_001E\",\"B19301_001E\", \"B17001_002E\"), {'for': 'state:06'})\n",
    "fifth_pd = pd.DataFrame(fifthdata)\n",
    "\n",
    "fifth_pd = fifth_pd.rename(columns={\"B01003_001E\": \"Population\",\n",
    "                                   \"B19301_001E\": \"Per Capita Income\",\n",
    "                                   \"B17001_002E\": \"Poverty Count\",\n",
    "                                   \"NAME\": \"Name\", \"state\": \"State\"})\n",
    "\n",
    "fifth_pd[\"Poverty Rate\"] = 100 * fifth_pd[\"Poverty Count\"].astype(int)/fifth_pd[\"Population\"].astype(int)\n",
    "\n",
    "fifth_pd = fifth_pd[[\"State\", \"Name\", \"Population\", \"Per Capita Income\", \"Poverty Count\", \"Poverty Rate\"]]\n",
    "fifth_pd"
   ]
  },
  {
   "cell_type": "code",
   "execution_count": 9,
   "metadata": {},
   "outputs": [
    {
     "data": {
      "text/html": [
       "<div>\n",
       "<style scoped>\n",
       "    .dataframe tbody tr th:only-of-type {\n",
       "        vertical-align: middle;\n",
       "    }\n",
       "\n",
       "    .dataframe tbody tr th {\n",
       "        vertical-align: top;\n",
       "    }\n",
       "\n",
       "    .dataframe thead th {\n",
       "        text-align: right;\n",
       "    }\n",
       "</style>\n",
       "<table border=\"1\" class=\"dataframe\">\n",
       "  <thead>\n",
       "    <tr style=\"text-align: right;\">\n",
       "      <th></th>\n",
       "      <th>State</th>\n",
       "      <th>Name</th>\n",
       "      <th>Population</th>\n",
       "      <th>Per Capita Income</th>\n",
       "      <th>Poverty Count</th>\n",
       "      <th>Poverty Rate</th>\n",
       "    </tr>\n",
       "  </thead>\n",
       "  <tbody>\n",
       "    <tr>\n",
       "      <th>0</th>\n",
       "      <td>06</td>\n",
       "      <td>California</td>\n",
       "      <td>39148760.0</td>\n",
       "      <td>35021.0</td>\n",
       "      <td>5487141.0</td>\n",
       "      <td>14.01613</td>\n",
       "    </tr>\n",
       "  </tbody>\n",
       "</table>\n",
       "</div>"
      ],
      "text/plain": [
       "  State        Name  Population  Per Capita Income  Poverty Count  \\\n",
       "0    06  California  39148760.0            35021.0      5487141.0   \n",
       "\n",
       "   Poverty Rate  \n",
       "0      14.01613  "
      ]
     },
     "execution_count": 9,
     "metadata": {},
     "output_type": "execute_result"
    }
   ],
   "source": [
    "c = Census(api_key, year = 2018)\n",
    "\n",
    "sixthdata = c.acs5.get((\"NAME\",\"B01003_001E\",\"B19301_001E\", \"B17001_002E\"), {'for': 'state:06'})\n",
    "sixth_pd = pd.DataFrame(sixthdata)\n",
    "\n",
    "sixth_pd = sixth_pd.rename(columns={\"B01003_001E\": \"Population\",\n",
    "                                   \"B19301_001E\": \"Per Capita Income\",\n",
    "                                   \"B17001_002E\": \"Poverty Count\",\n",
    "                                   \"NAME\": \"Name\", \"state\": \"State\"})\n",
    "\n",
    "sixth_pd[\"Poverty Rate\"] = 100 * sixth_pd[\"Poverty Count\"].astype(int)/sixth_pd[\"Population\"].astype(int)\n",
    "\n",
    "sixth_pd = sixth_pd[[\"State\", \"Name\", \"Population\", \"Per Capita Income\", \"Poverty Count\", \"Poverty Rate\"]]\n",
    "sixth_pd"
   ]
  },
  {
   "cell_type": "code",
   "execution_count": 10,
   "metadata": {},
   "outputs": [
    {
     "data": {
      "text/html": [
       "<div>\n",
       "<style scoped>\n",
       "    .dataframe tbody tr th:only-of-type {\n",
       "        vertical-align: middle;\n",
       "    }\n",
       "\n",
       "    .dataframe tbody tr th {\n",
       "        vertical-align: top;\n",
       "    }\n",
       "\n",
       "    .dataframe thead th {\n",
       "        text-align: right;\n",
       "    }\n",
       "</style>\n",
       "<table border=\"1\" class=\"dataframe\">\n",
       "  <thead>\n",
       "    <tr style=\"text-align: right;\">\n",
       "      <th></th>\n",
       "      <th>State</th>\n",
       "      <th>Name</th>\n",
       "      <th>Population</th>\n",
       "      <th>Per Capita Income</th>\n",
       "      <th>Poverty Count</th>\n",
       "      <th>Poverty Rate</th>\n",
       "    </tr>\n",
       "  </thead>\n",
       "  <tbody>\n",
       "    <tr>\n",
       "      <th>0</th>\n",
       "      <td>06</td>\n",
       "      <td>California</td>\n",
       "      <td>37659181.0</td>\n",
       "      <td>29527.0</td>\n",
       "      <td>5885417.0</td>\n",
       "      <td>15.628107</td>\n",
       "    </tr>\n",
       "    <tr>\n",
       "      <th>1</th>\n",
       "      <td>06</td>\n",
       "      <td>California</td>\n",
       "      <td>38066920.0</td>\n",
       "      <td>29906.0</td>\n",
       "      <td>6115244.0</td>\n",
       "      <td>16.064457</td>\n",
       "    </tr>\n",
       "  </tbody>\n",
       "</table>\n",
       "</div>"
      ],
      "text/plain": [
       "  State        Name  Population  Per Capita Income  Poverty Count  \\\n",
       "0    06  California  37659181.0            29527.0      5885417.0   \n",
       "1    06  California  38066920.0            29906.0      6115244.0   \n",
       "\n",
       "   Poverty Rate  \n",
       "0     15.628107  \n",
       "1     16.064457  "
      ]
     },
     "execution_count": 10,
     "metadata": {},
     "output_type": "execute_result"
    }
   ],
   "source": [
    "merge_df = pd.merge(first_pd, second_pd, on=(\"Name\", \"Population\", \"Per Capita Income\", \"Poverty Count\", \"Poverty Rate\", \"State\"), how=\"outer\")\n",
    "\n",
    "merge_df"
   ]
  },
  {
   "cell_type": "code",
   "execution_count": 11,
   "metadata": {},
   "outputs": [
    {
     "data": {
      "text/html": [
       "<div>\n",
       "<style scoped>\n",
       "    .dataframe tbody tr th:only-of-type {\n",
       "        vertical-align: middle;\n",
       "    }\n",
       "\n",
       "    .dataframe tbody tr th {\n",
       "        vertical-align: top;\n",
       "    }\n",
       "\n",
       "    .dataframe thead th {\n",
       "        text-align: right;\n",
       "    }\n",
       "</style>\n",
       "<table border=\"1\" class=\"dataframe\">\n",
       "  <thead>\n",
       "    <tr style=\"text-align: right;\">\n",
       "      <th></th>\n",
       "      <th>State</th>\n",
       "      <th>Name</th>\n",
       "      <th>Population</th>\n",
       "      <th>Per Capita Income</th>\n",
       "      <th>Poverty Count</th>\n",
       "      <th>Poverty Rate</th>\n",
       "    </tr>\n",
       "  </thead>\n",
       "  <tbody>\n",
       "    <tr>\n",
       "      <th>0</th>\n",
       "      <td>06</td>\n",
       "      <td>California</td>\n",
       "      <td>37659181.0</td>\n",
       "      <td>29527.0</td>\n",
       "      <td>5885417.0</td>\n",
       "      <td>15.628107</td>\n",
       "    </tr>\n",
       "    <tr>\n",
       "      <th>1</th>\n",
       "      <td>06</td>\n",
       "      <td>California</td>\n",
       "      <td>38066920.0</td>\n",
       "      <td>29906.0</td>\n",
       "      <td>6115244.0</td>\n",
       "      <td>16.064457</td>\n",
       "    </tr>\n",
       "    <tr>\n",
       "      <th>2</th>\n",
       "      <td>06</td>\n",
       "      <td>California</td>\n",
       "      <td>38421464.0</td>\n",
       "      <td>30318.0</td>\n",
       "      <td>6135142.0</td>\n",
       "      <td>15.968007</td>\n",
       "    </tr>\n",
       "  </tbody>\n",
       "</table>\n",
       "</div>"
      ],
      "text/plain": [
       "  State        Name  Population  Per Capita Income  Poverty Count  \\\n",
       "0    06  California  37659181.0            29527.0      5885417.0   \n",
       "1    06  California  38066920.0            29906.0      6115244.0   \n",
       "2    06  California  38421464.0            30318.0      6135142.0   \n",
       "\n",
       "   Poverty Rate  \n",
       "0     15.628107  \n",
       "1     16.064457  \n",
       "2     15.968007  "
      ]
     },
     "execution_count": 11,
     "metadata": {},
     "output_type": "execute_result"
    }
   ],
   "source": [
    "merge_df = pd.merge(merge_df, third_pd, on=(\"Name\", \"Population\", \"Per Capita Income\", \"Poverty Count\", \"Poverty Rate\", \"State\"), how=\"outer\")\n",
    "\n",
    "merge_df"
   ]
  },
  {
   "cell_type": "code",
   "execution_count": 12,
   "metadata": {},
   "outputs": [
    {
     "data": {
      "text/html": [
       "<div>\n",
       "<style scoped>\n",
       "    .dataframe tbody tr th:only-of-type {\n",
       "        vertical-align: middle;\n",
       "    }\n",
       "\n",
       "    .dataframe tbody tr th {\n",
       "        vertical-align: top;\n",
       "    }\n",
       "\n",
       "    .dataframe thead th {\n",
       "        text-align: right;\n",
       "    }\n",
       "</style>\n",
       "<table border=\"1\" class=\"dataframe\">\n",
       "  <thead>\n",
       "    <tr style=\"text-align: right;\">\n",
       "      <th></th>\n",
       "      <th>State</th>\n",
       "      <th>Name</th>\n",
       "      <th>Population</th>\n",
       "      <th>Per Capita Income</th>\n",
       "      <th>Poverty Count</th>\n",
       "      <th>Poverty Rate</th>\n",
       "    </tr>\n",
       "  </thead>\n",
       "  <tbody>\n",
       "    <tr>\n",
       "      <th>0</th>\n",
       "      <td>06</td>\n",
       "      <td>California</td>\n",
       "      <td>37659181.0</td>\n",
       "      <td>29527.0</td>\n",
       "      <td>5885417.0</td>\n",
       "      <td>15.628107</td>\n",
       "    </tr>\n",
       "    <tr>\n",
       "      <th>1</th>\n",
       "      <td>06</td>\n",
       "      <td>California</td>\n",
       "      <td>38066920.0</td>\n",
       "      <td>29906.0</td>\n",
       "      <td>6115244.0</td>\n",
       "      <td>16.064457</td>\n",
       "    </tr>\n",
       "    <tr>\n",
       "      <th>2</th>\n",
       "      <td>06</td>\n",
       "      <td>California</td>\n",
       "      <td>38421464.0</td>\n",
       "      <td>30318.0</td>\n",
       "      <td>6135142.0</td>\n",
       "      <td>15.968007</td>\n",
       "    </tr>\n",
       "    <tr>\n",
       "      <th>3</th>\n",
       "      <td>06</td>\n",
       "      <td>California</td>\n",
       "      <td>38654206.0</td>\n",
       "      <td>31458.0</td>\n",
       "      <td>6004257.0</td>\n",
       "      <td>15.533257</td>\n",
       "    </tr>\n",
       "  </tbody>\n",
       "</table>\n",
       "</div>"
      ],
      "text/plain": [
       "  State        Name  Population  Per Capita Income  Poverty Count  \\\n",
       "0    06  California  37659181.0            29527.0      5885417.0   \n",
       "1    06  California  38066920.0            29906.0      6115244.0   \n",
       "2    06  California  38421464.0            30318.0      6135142.0   \n",
       "3    06  California  38654206.0            31458.0      6004257.0   \n",
       "\n",
       "   Poverty Rate  \n",
       "0     15.628107  \n",
       "1     16.064457  \n",
       "2     15.968007  \n",
       "3     15.533257  "
      ]
     },
     "execution_count": 12,
     "metadata": {},
     "output_type": "execute_result"
    }
   ],
   "source": [
    "merge_df = pd.merge(merge_df, fourth_pd, on=(\"Name\", \"Population\", \"Per Capita Income\", \"Poverty Count\", \"Poverty Rate\", \"State\"), how=\"outer\")\n",
    "\n",
    "merge_df"
   ]
  },
  {
   "cell_type": "code",
   "execution_count": 13,
   "metadata": {},
   "outputs": [
    {
     "data": {
      "text/html": [
       "<div>\n",
       "<style scoped>\n",
       "    .dataframe tbody tr th:only-of-type {\n",
       "        vertical-align: middle;\n",
       "    }\n",
       "\n",
       "    .dataframe tbody tr th {\n",
       "        vertical-align: top;\n",
       "    }\n",
       "\n",
       "    .dataframe thead th {\n",
       "        text-align: right;\n",
       "    }\n",
       "</style>\n",
       "<table border=\"1\" class=\"dataframe\">\n",
       "  <thead>\n",
       "    <tr style=\"text-align: right;\">\n",
       "      <th></th>\n",
       "      <th>State</th>\n",
       "      <th>Name</th>\n",
       "      <th>Population</th>\n",
       "      <th>Per Capita Income</th>\n",
       "      <th>Poverty Count</th>\n",
       "      <th>Poverty Rate</th>\n",
       "    </tr>\n",
       "  </thead>\n",
       "  <tbody>\n",
       "    <tr>\n",
       "      <th>0</th>\n",
       "      <td>06</td>\n",
       "      <td>California</td>\n",
       "      <td>37659181.0</td>\n",
       "      <td>29527.0</td>\n",
       "      <td>5885417.0</td>\n",
       "      <td>15.628107</td>\n",
       "    </tr>\n",
       "    <tr>\n",
       "      <th>1</th>\n",
       "      <td>06</td>\n",
       "      <td>California</td>\n",
       "      <td>38066920.0</td>\n",
       "      <td>29906.0</td>\n",
       "      <td>6115244.0</td>\n",
       "      <td>16.064457</td>\n",
       "    </tr>\n",
       "    <tr>\n",
       "      <th>2</th>\n",
       "      <td>06</td>\n",
       "      <td>California</td>\n",
       "      <td>38421464.0</td>\n",
       "      <td>30318.0</td>\n",
       "      <td>6135142.0</td>\n",
       "      <td>15.968007</td>\n",
       "    </tr>\n",
       "    <tr>\n",
       "      <th>3</th>\n",
       "      <td>06</td>\n",
       "      <td>California</td>\n",
       "      <td>38654206.0</td>\n",
       "      <td>31458.0</td>\n",
       "      <td>6004257.0</td>\n",
       "      <td>15.533257</td>\n",
       "    </tr>\n",
       "    <tr>\n",
       "      <th>4</th>\n",
       "      <td>06</td>\n",
       "      <td>California</td>\n",
       "      <td>38982847.0</td>\n",
       "      <td>33128.0</td>\n",
       "      <td>5773408.0</td>\n",
       "      <td>14.810124</td>\n",
       "    </tr>\n",
       "  </tbody>\n",
       "</table>\n",
       "</div>"
      ],
      "text/plain": [
       "  State        Name  Population  Per Capita Income  Poverty Count  \\\n",
       "0    06  California  37659181.0            29527.0      5885417.0   \n",
       "1    06  California  38066920.0            29906.0      6115244.0   \n",
       "2    06  California  38421464.0            30318.0      6135142.0   \n",
       "3    06  California  38654206.0            31458.0      6004257.0   \n",
       "4    06  California  38982847.0            33128.0      5773408.0   \n",
       "\n",
       "   Poverty Rate  \n",
       "0     15.628107  \n",
       "1     16.064457  \n",
       "2     15.968007  \n",
       "3     15.533257  \n",
       "4     14.810124  "
      ]
     },
     "execution_count": 13,
     "metadata": {},
     "output_type": "execute_result"
    }
   ],
   "source": [
    "merge_df = pd.merge(merge_df, fifth_pd, on=(\"Name\", \"Population\", \"Per Capita Income\", \"Poverty Count\", \"Poverty Rate\", \"State\"), how=\"outer\")\n",
    "\n",
    "merge_df"
   ]
  },
  {
   "cell_type": "code",
   "execution_count": 14,
   "metadata": {},
   "outputs": [
    {
     "data": {
      "text/html": [
       "<div>\n",
       "<style scoped>\n",
       "    .dataframe tbody tr th:only-of-type {\n",
       "        vertical-align: middle;\n",
       "    }\n",
       "\n",
       "    .dataframe tbody tr th {\n",
       "        vertical-align: top;\n",
       "    }\n",
       "\n",
       "    .dataframe thead th {\n",
       "        text-align: right;\n",
       "    }\n",
       "</style>\n",
       "<table border=\"1\" class=\"dataframe\">\n",
       "  <thead>\n",
       "    <tr style=\"text-align: right;\">\n",
       "      <th></th>\n",
       "      <th>State</th>\n",
       "      <th>Name</th>\n",
       "      <th>Population</th>\n",
       "      <th>Per Capita Income</th>\n",
       "      <th>Poverty Count</th>\n",
       "      <th>Poverty Rate</th>\n",
       "    </tr>\n",
       "  </thead>\n",
       "  <tbody>\n",
       "    <tr>\n",
       "      <th>0</th>\n",
       "      <td>06</td>\n",
       "      <td>California</td>\n",
       "      <td>37659181.0</td>\n",
       "      <td>29527.0</td>\n",
       "      <td>5885417.0</td>\n",
       "      <td>15.628107</td>\n",
       "    </tr>\n",
       "    <tr>\n",
       "      <th>1</th>\n",
       "      <td>06</td>\n",
       "      <td>California</td>\n",
       "      <td>38066920.0</td>\n",
       "      <td>29906.0</td>\n",
       "      <td>6115244.0</td>\n",
       "      <td>16.064457</td>\n",
       "    </tr>\n",
       "    <tr>\n",
       "      <th>2</th>\n",
       "      <td>06</td>\n",
       "      <td>California</td>\n",
       "      <td>38421464.0</td>\n",
       "      <td>30318.0</td>\n",
       "      <td>6135142.0</td>\n",
       "      <td>15.968007</td>\n",
       "    </tr>\n",
       "    <tr>\n",
       "      <th>3</th>\n",
       "      <td>06</td>\n",
       "      <td>California</td>\n",
       "      <td>38654206.0</td>\n",
       "      <td>31458.0</td>\n",
       "      <td>6004257.0</td>\n",
       "      <td>15.533257</td>\n",
       "    </tr>\n",
       "    <tr>\n",
       "      <th>4</th>\n",
       "      <td>06</td>\n",
       "      <td>California</td>\n",
       "      <td>38982847.0</td>\n",
       "      <td>33128.0</td>\n",
       "      <td>5773408.0</td>\n",
       "      <td>14.810124</td>\n",
       "    </tr>\n",
       "    <tr>\n",
       "      <th>5</th>\n",
       "      <td>06</td>\n",
       "      <td>California</td>\n",
       "      <td>39148760.0</td>\n",
       "      <td>35021.0</td>\n",
       "      <td>5487141.0</td>\n",
       "      <td>14.016130</td>\n",
       "    </tr>\n",
       "  </tbody>\n",
       "</table>\n",
       "</div>"
      ],
      "text/plain": [
       "  State        Name  Population  Per Capita Income  Poverty Count  \\\n",
       "0    06  California  37659181.0            29527.0      5885417.0   \n",
       "1    06  California  38066920.0            29906.0      6115244.0   \n",
       "2    06  California  38421464.0            30318.0      6135142.0   \n",
       "3    06  California  38654206.0            31458.0      6004257.0   \n",
       "4    06  California  38982847.0            33128.0      5773408.0   \n",
       "5    06  California  39148760.0            35021.0      5487141.0   \n",
       "\n",
       "   Poverty Rate  \n",
       "0     15.628107  \n",
       "1     16.064457  \n",
       "2     15.968007  \n",
       "3     15.533257  \n",
       "4     14.810124  \n",
       "5     14.016130  "
      ]
     },
     "execution_count": 14,
     "metadata": {},
     "output_type": "execute_result"
    }
   ],
   "source": [
    "merge_df = pd.merge(merge_df, sixth_pd, on=(\"Name\", \"Population\", \"Per Capita Income\", \"Poverty Count\", \"Poverty Rate\", \"State\"), how=\"outer\")\n",
    "\n",
    "merge_df"
   ]
  },
  {
   "cell_type": "code",
   "execution_count": 15,
   "metadata": {},
   "outputs": [
    {
     "data": {
      "text/html": [
       "<div>\n",
       "<style scoped>\n",
       "    .dataframe tbody tr th:only-of-type {\n",
       "        vertical-align: middle;\n",
       "    }\n",
       "\n",
       "    .dataframe tbody tr th {\n",
       "        vertical-align: top;\n",
       "    }\n",
       "\n",
       "    .dataframe thead th {\n",
       "        text-align: right;\n",
       "    }\n",
       "</style>\n",
       "<table border=\"1\" class=\"dataframe\">\n",
       "  <thead>\n",
       "    <tr style=\"text-align: right;\">\n",
       "      <th></th>\n",
       "      <th>Population</th>\n",
       "      <th>Per Capita Income</th>\n",
       "      <th>Poverty Count</th>\n",
       "      <th>Poverty Rate</th>\n",
       "      <th>Year</th>\n",
       "    </tr>\n",
       "  </thead>\n",
       "  <tbody>\n",
       "    <tr>\n",
       "      <th>0</th>\n",
       "      <td>37659181.0</td>\n",
       "      <td>29527.0</td>\n",
       "      <td>5885417.0</td>\n",
       "      <td>15.628107</td>\n",
       "      <td>2013</td>\n",
       "    </tr>\n",
       "    <tr>\n",
       "      <th>1</th>\n",
       "      <td>38066920.0</td>\n",
       "      <td>29906.0</td>\n",
       "      <td>6115244.0</td>\n",
       "      <td>16.064457</td>\n",
       "      <td>2014</td>\n",
       "    </tr>\n",
       "    <tr>\n",
       "      <th>2</th>\n",
       "      <td>38421464.0</td>\n",
       "      <td>30318.0</td>\n",
       "      <td>6135142.0</td>\n",
       "      <td>15.968007</td>\n",
       "      <td>2015</td>\n",
       "    </tr>\n",
       "    <tr>\n",
       "      <th>3</th>\n",
       "      <td>38654206.0</td>\n",
       "      <td>31458.0</td>\n",
       "      <td>6004257.0</td>\n",
       "      <td>15.533257</td>\n",
       "      <td>2016</td>\n",
       "    </tr>\n",
       "    <tr>\n",
       "      <th>4</th>\n",
       "      <td>38982847.0</td>\n",
       "      <td>33128.0</td>\n",
       "      <td>5773408.0</td>\n",
       "      <td>14.810124</td>\n",
       "      <td>2017</td>\n",
       "    </tr>\n",
       "    <tr>\n",
       "      <th>5</th>\n",
       "      <td>39148760.0</td>\n",
       "      <td>35021.0</td>\n",
       "      <td>5487141.0</td>\n",
       "      <td>14.016130</td>\n",
       "      <td>2018</td>\n",
       "    </tr>\n",
       "  </tbody>\n",
       "</table>\n",
       "</div>"
      ],
      "text/plain": [
       "   Population  Per Capita Income  Poverty Count  Poverty Rate  Year\n",
       "0  37659181.0            29527.0      5885417.0     15.628107  2013\n",
       "1  38066920.0            29906.0      6115244.0     16.064457  2014\n",
       "2  38421464.0            30318.0      6135142.0     15.968007  2015\n",
       "3  38654206.0            31458.0      6004257.0     15.533257  2016\n",
       "4  38982847.0            33128.0      5773408.0     14.810124  2017\n",
       "5  39148760.0            35021.0      5487141.0     14.016130  2018"
      ]
     },
     "execution_count": 15,
     "metadata": {},
     "output_type": "execute_result"
    }
   ],
   "source": [
    "merge_df[\"Year\"]=[\"2013\", \"2014\", \"2015\", \"2016\", \"2017\", \"2018\"]\n",
    "del merge_df[\"State\"]\n",
    "del merge_df[\"Name\"]\n",
    "\n",
    "merge_df"
   ]
  },
  {
   "cell_type": "code",
   "execution_count": 36,
   "metadata": {},
   "outputs": [
    {
     "data": {
      "text/html": [
       "<div>\n",
       "<style scoped>\n",
       "    .dataframe tbody tr th:only-of-type {\n",
       "        vertical-align: middle;\n",
       "    }\n",
       "\n",
       "    .dataframe tbody tr th {\n",
       "        vertical-align: top;\n",
       "    }\n",
       "\n",
       "    .dataframe thead th {\n",
       "        text-align: right;\n",
       "    }\n",
       "</style>\n",
       "<table border=\"1\" class=\"dataframe\">\n",
       "  <thead>\n",
       "    <tr style=\"text-align: right;\">\n",
       "      <th></th>\n",
       "      <th>Year</th>\n",
       "      <th>Population</th>\n",
       "      <th>Per Capita Income</th>\n",
       "      <th>Poverty Count</th>\n",
       "      <th>Poverty Rate</th>\n",
       "    </tr>\n",
       "  </thead>\n",
       "  <tbody>\n",
       "    <tr>\n",
       "      <th>0</th>\n",
       "      <td>2013</td>\n",
       "      <td>37659181.0</td>\n",
       "      <td>29527.0</td>\n",
       "      <td>5885417.0</td>\n",
       "      <td>15.628107</td>\n",
       "    </tr>\n",
       "    <tr>\n",
       "      <th>1</th>\n",
       "      <td>2014</td>\n",
       "      <td>38066920.0</td>\n",
       "      <td>29906.0</td>\n",
       "      <td>6115244.0</td>\n",
       "      <td>16.064457</td>\n",
       "    </tr>\n",
       "    <tr>\n",
       "      <th>2</th>\n",
       "      <td>2015</td>\n",
       "      <td>38421464.0</td>\n",
       "      <td>30318.0</td>\n",
       "      <td>6135142.0</td>\n",
       "      <td>15.968007</td>\n",
       "    </tr>\n",
       "    <tr>\n",
       "      <th>3</th>\n",
       "      <td>2016</td>\n",
       "      <td>38654206.0</td>\n",
       "      <td>31458.0</td>\n",
       "      <td>6004257.0</td>\n",
       "      <td>15.533257</td>\n",
       "    </tr>\n",
       "    <tr>\n",
       "      <th>4</th>\n",
       "      <td>2017</td>\n",
       "      <td>38982847.0</td>\n",
       "      <td>33128.0</td>\n",
       "      <td>5773408.0</td>\n",
       "      <td>14.810124</td>\n",
       "    </tr>\n",
       "    <tr>\n",
       "      <th>5</th>\n",
       "      <td>2018</td>\n",
       "      <td>39148760.0</td>\n",
       "      <td>35021.0</td>\n",
       "      <td>5487141.0</td>\n",
       "      <td>14.016130</td>\n",
       "    </tr>\n",
       "  </tbody>\n",
       "</table>\n",
       "</div>"
      ],
      "text/plain": [
       "   Year  Population  Per Capita Income  Poverty Count  Poverty Rate\n",
       "0  2013  37659181.0            29527.0      5885417.0     15.628107\n",
       "1  2014  38066920.0            29906.0      6115244.0     16.064457\n",
       "2  2015  38421464.0            30318.0      6135142.0     15.968007\n",
       "3  2016  38654206.0            31458.0      6004257.0     15.533257\n",
       "4  2017  38982847.0            33128.0      5773408.0     14.810124\n",
       "5  2018  39148760.0            35021.0      5487141.0     14.016130"
      ]
     },
     "execution_count": 36,
     "metadata": {},
     "output_type": "execute_result"
    }
   ],
   "source": [
    "final_merge=merge_df[[\"Year\", \"Population\", \"Per Capita Income\", \"Poverty Count\", \"Poverty Rate\"]]\n",
    "final_merge"
   ]
  },
  {
   "cell_type": "markdown",
   "metadata": {},
   "source": [
    "# Population"
   ]
  },
  {
   "cell_type": "code",
   "execution_count": 41,
   "metadata": {},
   "outputs": [
    {
     "data": {
      "image/png": "[encoded data removed]",
      "text/plain": [
       "<Figure size 720x720 with 1 Axes>"
      ]
     },
     "metadata": {
      "needs_background": "light"
     },
     "output_type": "display_data"
    }
   ],
   "source": [
    "x_axis = np.arange(len(final_merge))\n",
    "tick_locations = [value for value in x_axis]\n",
    "plt.figure(figsize=(10,10))\n",
    "plt.bar(x_axis, final_merge[\"Population\"])\n",
    "plt.xticks(tick_locations, final_merge[\"Year\"])\n",
    "plt.title(\"Population in CA 2013-2018\")\n",
    "plt.xlabel(\"Year\")\n",
    "plt.ylabel(\"Number of People (tens of millions)\")\n",
    "plt.tight_layout()\n",
    "plt.show()"
   ]
  },
  {
   "cell_type": "markdown",
   "metadata": {},
   "source": [
    "# Per Capital Income"
   ]
  },
  {
   "cell_type": "code",
   "execution_count": 38,
   "metadata": {},
   "outputs": [
    {
     "data": {
      "image/png": "[encoded data removed]",
      "text/plain": [
       "<Figure size 720x720 with 1 Axes>"
      ]
     },
     "metadata": {
      "needs_background": "light"
     },
     "output_type": "display_data"
    }
   ],
   "source": [
    "x_axis = np.arange(len(final_merge))\n",
    "tick_locations = [value for value in x_axis]\n",
    "plt.figure(figsize=(10,10))\n",
    "plt.plot(x_axis, final_merge[\"Per Capita Income\"])\n",
    "plt.xticks(tick_locations, final_merge[\"Year\"])\n",
    "plt.title(\"Per Capita Income in CA 2013-2018\")\n",
    "plt.xlabel(\"Year\")\n",
    "plt.ylabel(\"Per Capita Income ($)\")\n",
    "plt.tight_layout()\n",
    "plt.show()"
   ]
  },
  {
   "cell_type": "markdown",
   "metadata": {},
   "source": [
    "# Poverty "
   ]
  },
  {
   "cell_type": "code",
   "execution_count": 39,
   "metadata": {},
   "outputs": [
    {
     "data": {
      "image/png": "[encoded data removed]",
      "text/plain": [
       "<Figure size 720x720 with 1 Axes>"
      ]
     },
     "metadata": {
      "needs_background": "light"
     },
     "output_type": "display_data"
    }
   ],
   "source": [
    "x_axis = np.arange(len(final_merge))\n",
    "tick_locations = [value for value in x_axis]\n",
    "plt.figure(figsize=(10,10))\n",
    "plt.plot(x_axis, final_merge[\"Poverty Rate\"])\n",
    "plt.xticks(tick_locations, final_merge[\"Year\"])\n",
    "plt.title(\"Poverty Rate in CA 2013-2018\")\n",
    "plt.xlabel(\"Year\")\n",
    "plt.ylabel(\"Poverty Rate (%)\")\n",
    "plt.tight_layout()\n",
    "plt.show()"
   ]
  },
  {
   "cell_type": "code",
   "execution_count": 75,
   "metadata": {},
   "outputs": [
    {
     "name": "stdout",
     "output_type": "stream",
     "text": [
      "The r-squared is: 0.9103035368503318\n"
     ]
    },
    {
     "data": {
      "image/png": "[encoded data removed]",
      "text/plain": [
       "<Figure size 720x720 with 1 Axes>"
      ]
     },
     "metadata": {
      "needs_background": "light"
     },
     "output_type": "display_data"
    }
   ],
   "source": [
    "plt.figure(figsize=(10,10))\n",
    "x_values = final_merge[\"Poverty Rate\"]\n",
    "y_values = final_merge[\"Per Capita Income\"]\n",
    "(slope, intercept, rvalue, pvalue, stderr) = linregress(x_values, y_values)\n",
    "regress_values = x_values * slope + intercept\n",
    "line_eq = \"y =\" + str(round(slope,2)) +\"x + \" + str(round(intercept,2))\n",
    "plt.scatter(x_values, y_values)\n",
    "plt.plot(x_values, regress_values, \"r-\")\n",
    "plt.annotate(line_eq, (14,31000), fontsize= 15, color=\"red\")\n",
    "plt.title(\"Per Capita Income and Poverty Rate\")\n",
    "plt.ylabel(\"Per Capita Income ($)\")\n",
    "plt.xlabel(\"Poverty Rate (%)\")\n",
    "print(f\"The r-squared is: {rvalue**2}\")\n",
    "plt.show()"
   ]
  },
  {
   "cell_type": "code",
   "execution_count": null,
   "metadata": {},
   "outputs": [],
   "source": []
  },
  {
   "cell_type": "code",
   "execution_count": null,
   "metadata": {},
   "outputs": [],
   "source": []
  }
 ],
 "metadata": {
  "kernelspec": {
   "display_name": "Python [conda env:PythonData] *",
   "language": "python",
   "name": "conda-env-PythonData-py"
  },
  "language_info": {
   "codemirror_mode": {
    "name": "ipython",
    "version": 3
   },
   "file_extension": ".py",
   "mimetype": "text/x-python",
   "name": "python",
   "nbconvert_exporter": "python",
   "pygments_lexer": "ipython3",
   "version": "3.6.12"
  }
 },
 "nbformat": 4,
 "nbformat_minor": 4
}
