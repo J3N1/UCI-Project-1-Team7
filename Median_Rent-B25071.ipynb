{
 "cells": [
  {
   "cell_type": "code",
   "execution_count": 1,
   "metadata": {},
   "outputs": [],
   "source": [
    "# Dependencies\n",
    "import numpy as np\n",
    "import pandas as pd\n",
    "import matplotlib.pyplot as plt\n",
    "import requests\n",
    "from census import Census\n",
    "import gmaps"
   ]
  },
  {
   "cell_type": "code",
   "execution_count": 25,
   "metadata": {},
   "outputs": [],
   "source": [
    "# Census & gmaps API Keys\n",
    "from config import (api_key, gkey)\n",
    "c = Census(api_key, year=2013)\n",
    "\n",
    "# Configure gmaps\n",
    "gmaps.configure(api_key=gkey)"
   ]
  },
  {
   "cell_type": "code",
   "execution_count": 26,
   "metadata": {},
   "outputs": [
    {
     "data": {
      "text/html": [
       "<div>\n",
       "<style scoped>\n",
       "    .dataframe tbody tr th:only-of-type {\n",
       "        vertical-align: middle;\n",
       "    }\n",
       "\n",
       "    .dataframe tbody tr th {\n",
       "        vertical-align: top;\n",
       "    }\n",
       "\n",
       "    .dataframe thead th {\n",
       "        text-align: right;\n",
       "    }\n",
       "</style>\n",
       "<table border=\"1\" class=\"dataframe\">\n",
       "  <thead>\n",
       "    <tr style=\"text-align: right;\">\n",
       "      <th></th>\n",
       "      <th>Name</th>\n",
       "      <th>Median Rent as a percentage of household income 2013</th>\n",
       "      <th>State</th>\n",
       "    </tr>\n",
       "  </thead>\n",
       "  <tbody>\n",
       "    <tr>\n",
       "      <th>2</th>\n",
       "      <td>Florida</td>\n",
       "      <td>34.9</td>\n",
       "      <td>12</td>\n",
       "    </tr>\n",
       "    <tr>\n",
       "      <th>0</th>\n",
       "      <td>California</td>\n",
       "      <td>33.7</td>\n",
       "      <td>06</td>\n",
       "    </tr>\n",
       "    <tr>\n",
       "      <th>4</th>\n",
       "      <td>Oregon</td>\n",
       "      <td>32.2</td>\n",
       "      <td>41</td>\n",
       "    </tr>\n",
       "    <tr>\n",
       "      <th>1</th>\n",
       "      <td>Colorado</td>\n",
       "      <td>30.9</td>\n",
       "      <td>08</td>\n",
       "    </tr>\n",
       "    <tr>\n",
       "      <th>3</th>\n",
       "      <td>Idaho</td>\n",
       "      <td>29.8</td>\n",
       "      <td>16</td>\n",
       "    </tr>\n",
       "    <tr>\n",
       "      <th>5</th>\n",
       "      <td>Texas</td>\n",
       "      <td>29.6</td>\n",
       "      <td>48</td>\n",
       "    </tr>\n",
       "  </tbody>\n",
       "</table>\n",
       "</div>"
      ],
      "text/plain": [
       "         Name  Median Rent as a percentage of household income 2013 State\n",
       "2     Florida                                               34.9       12\n",
       "0  California                                               33.7       06\n",
       "4      Oregon                                               32.2       41\n",
       "1    Colorado                                               30.9       08\n",
       "3       Idaho                                               29.8       16\n",
       "5       Texas                                               29.6       48"
      ]
     },
     "execution_count": 26,
     "metadata": {},
     "output_type": "execute_result"
    }
   ],
   "source": [
    "# Run Census Search to retrieve data on all states\n",
    "# GROUP = \"B25071\"\n",
    "#MEDIAN GROSS RENT AS A PERCENTAGE OF HOUSEHOLD INCOME IN THE PAST 12 MONTHS (DOLLARS)\n",
    "\n",
    "\n",
    "median_rent_data = c.acs5.get((\"NAME\", \"B25071_001E\"), \n",
    "                         {'for': 'state: 06, 08, 12, 16, 41, 48'})\n",
    "\n",
    "# Convert to DataFrame\n",
    "median_rent_pd = pd.DataFrame(median_rent_data)\n",
    "\n",
    "# Column Reordering\n",
    "median_rent_pd = median_rent_pd.rename(columns={\"B25071_001E\": \"Median Rent as a percentage of household income 2013\",\n",
    "                                                                                           \n",
    "                                      \"NAME\": \"Name\", \"state\": \"State\"})\n",
    "\n",
    "#Sorting\n",
    "sorted_df = median_rent_pd.sort_values(\"Median Rent as a percentage of household income 2013\", ascending=False)\n",
    "sorted_df"
   ]
  },
  {
   "cell_type": "code",
   "execution_count": 27,
   "metadata": {},
   "outputs": [
    {
     "data": {
      "image/png": "[encoded data removed]",
      "text/plain": [
       "<Figure size 432x288 with 1 Axes>"
      ]
     },
     "metadata": {
      "needs_background": "light"
     },
     "output_type": "display_data"
    }
   ],
   "source": [
    "# Plots\n",
    "\n",
    "x_axis = sorted_df[\"Name\"]\n",
    "y_axis = sorted_df[\"Median Rent as a percentage of household income 2013\"]\n",
    "\n",
    "plt.title(\"MEDIAN RENT AS A (%) OF HOUSEHOLD INCOME (2013)\")\n",
    "plt.xlim(-0.75, len(x_axis)-.25)\n",
    "plt.ylim(0, max(y_axis) + 10)\n",
    "plt.xlabel(\"State\", fontsize = 12)\n",
    "plt.ylabel(\"Percentage (%)\",fontsize = 12)\n",
    "\n",
    "\n",
    "\n",
    "plt.bar(x_axis,y_axis)\n",
    "\n",
    "for x,y in zip(x_axis,y_axis):\n",
    "\n",
    "    label = \"{:.0f}%\".format(y)\n",
    "\n",
    "    plt.annotate(label, # this is the text\n",
    "                 (x,y), # this is the point to label\n",
    "                 textcoords=\"offset points\", # how to position the text\n",
    "                 xytext=(0,10), # distance from text to points (x,y)\n",
    "                 ha='center') # horizontal alignment can be left, right or center\n",
    "    \n",
    "plt.xticks(x_axis, rotation=\"vertical\")\n",
    "plt.show()"
   ]
  },
  {
   "cell_type": "code",
   "execution_count": null,
   "metadata": {},
   "outputs": [],
   "source": []
  }
 ],
 "metadata": {
  "kernelspec": {
   "display_name": "Python [conda env:PythonData] *",
   "language": "python",
   "name": "conda-env-PythonData-py"
  },
  "language_info": {
   "codemirror_mode": {
    "name": "ipython",
    "version": 3
   },
   "file_extension": ".py",
   "mimetype": "text/x-python",
   "name": "python",
   "nbconvert_exporter": "python",
   "pygments_lexer": "ipython3",
   "version": "3.6.12"
  }
 },
 "nbformat": 4,
 "nbformat_minor": 4
}
