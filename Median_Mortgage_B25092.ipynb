{
 "cells": [
  {
   "cell_type": "code",
   "execution_count": 48,
   "metadata": {},
   "outputs": [],
   "source": [
    "# Dependencies\n",
    "import numpy as np\n",
    "import pandas as pd\n",
    "import matplotlib.pyplot as plt\n",
    "import requests\n",
    "from census import Census\n",
    "import gmaps"
   ]
  },
  {
   "cell_type": "code",
   "execution_count": 49,
   "metadata": {},
   "outputs": [],
   "source": [
    "# Census & gmaps API Keys\n",
    "from config import (api_key, gkey)\n",
    "c = Census(api_key, year=2016)\n",
    "\n",
    "# Configure gmaps\n",
    "gmaps.configure(api_key=gkey)"
   ]
  },
  {
   "cell_type": "code",
   "execution_count": 50,
   "metadata": {},
   "outputs": [
    {
     "data": {
      "text/html": [
       "<div>\n",
       "<style scoped>\n",
       "    .dataframe tbody tr th:only-of-type {\n",
       "        vertical-align: middle;\n",
       "    }\n",
       "\n",
       "    .dataframe tbody tr th {\n",
       "        vertical-align: top;\n",
       "    }\n",
       "\n",
       "    .dataframe thead th {\n",
       "        text-align: right;\n",
       "    }\n",
       "</style>\n",
       "<table border=\"1\" class=\"dataframe\">\n",
       "  <thead>\n",
       "    <tr style=\"text-align: right;\">\n",
       "      <th></th>\n",
       "      <th>Name</th>\n",
       "      <th>Total</th>\n",
       "      <th>Housing units with a mortgage 2013</th>\n",
       "      <th>Housing units without a mortgage 2013</th>\n",
       "      <th>State</th>\n",
       "    </tr>\n",
       "  </thead>\n",
       "  <tbody>\n",
       "    <tr>\n",
       "      <th>0</th>\n",
       "      <td>California</td>\n",
       "      <td>22.8</td>\n",
       "      <td>26.5</td>\n",
       "      <td>11.1</td>\n",
       "      <td>06</td>\n",
       "    </tr>\n",
       "    <tr>\n",
       "      <th>1</th>\n",
       "      <td>Colorado</td>\n",
       "      <td>19.1</td>\n",
       "      <td>22.1</td>\n",
       "      <td>10.0</td>\n",
       "      <td>08</td>\n",
       "    </tr>\n",
       "    <tr>\n",
       "      <th>2</th>\n",
       "      <td>Florida</td>\n",
       "      <td>19.8</td>\n",
       "      <td>24.6</td>\n",
       "      <td>12.6</td>\n",
       "      <td>12</td>\n",
       "    </tr>\n",
       "    <tr>\n",
       "      <th>3</th>\n",
       "      <td>Idaho</td>\n",
       "      <td>18.2</td>\n",
       "      <td>22.0</td>\n",
       "      <td>10.0</td>\n",
       "      <td>16</td>\n",
       "    </tr>\n",
       "    <tr>\n",
       "      <th>4</th>\n",
       "      <td>Oregon</td>\n",
       "      <td>20.5</td>\n",
       "      <td>23.9</td>\n",
       "      <td>12.2</td>\n",
       "      <td>41</td>\n",
       "    </tr>\n",
       "    <tr>\n",
       "      <th>5</th>\n",
       "      <td>Texas</td>\n",
       "      <td>17.6</td>\n",
       "      <td>21.3</td>\n",
       "      <td>11.5</td>\n",
       "      <td>48</td>\n",
       "    </tr>\n",
       "  </tbody>\n",
       "</table>\n",
       "</div>"
      ],
      "text/plain": [
       "         Name  Total  Housing units with a mortgage 2013  \\\n",
       "0  California   22.8                                26.5   \n",
       "1    Colorado   19.1                                22.1   \n",
       "2     Florida   19.8                                24.6   \n",
       "3       Idaho   18.2                                22.0   \n",
       "4      Oregon   20.5                                23.9   \n",
       "5       Texas   17.6                                21.3   \n",
       "\n",
       "   Housing units without a mortgage 2013 State  \n",
       "0                                   11.1    06  \n",
       "1                                   10.0    08  \n",
       "2                                   12.6    12  \n",
       "3                                   10.0    16  \n",
       "4                                   12.2    41  \n",
       "5                                   11.5    48  "
      ]
     },
     "execution_count": 50,
     "metadata": {},
     "output_type": "execute_result"
    }
   ],
   "source": [
    "# Run Census Search to retrieve data on all states\n",
    "# Note the Group = \"B25092\" \n",
    "#MEDIAN SELECTED MONTHLY OWNER COSTS AS A PERCENTAGE OF HOUSEHOLD INCOME IN THE PAST 12 MONTHS\n",
    "\n",
    "median_mortgage_data = c.acs5.get((\"NAME\", \"B25092_001E\", \"B25092_002E\", \"B25092_003E\"), \n",
    "                         {'for': 'state: 06, 08, 12, 16, 41, 48'})\n",
    "\n",
    "# Convert to DataFrame\n",
    "median_mortgage_pd = pd.DataFrame(median_mortgage_data).sort_values(\"NAME\",ascending=True)\n",
    "\n",
    "# Column Reordering\n",
    "median_mortgage_pd = median_mortgage_pd.rename(columns={\"B25092_001E\": \"Total\",\n",
    "                                      \"B25092_002E\": \"Housing units with a mortgage 2013\",\n",
    "                                      \"B25092_003E\": \"Housing units without a mortgage 2013\",\n",
    "                                      \"NAME\": \"Name\", \"state\": \"State\"})\n",
    "\n",
    "#sorted_df = median_mortgage_pd.sort_values(\"Housing units with a mortgage 2013\", ascending=False)\n",
    "#sorted_df\n",
    "median_mortgage_pd"
   ]
  },
  {
   "cell_type": "code",
   "execution_count": 38,
   "metadata": {},
   "outputs": [
    {
     "data": {
      "image/png": "[encoded data removed]",
      "text/plain": [
       "<Figure size 432x288 with 1 Axes>"
      ]
     },
     "metadata": {
      "needs_background": "light"
     },
     "output_type": "display_data"
    }
   ],
   "source": [
    "# Plots\n",
    "\n",
    "x_axis = sorted_df[\"Name\"]\n",
    "y_axis = sorted_df[\"Housing units with a mortgage 2013\"]\n",
    "plt.title(\"MEDIAN MORTGAGE AS A (%) OF HOUSEHOLD INCOME (2013)\")\n",
    "plt.xlim(-0.75, len(x_axis)-.25)\n",
    "plt.ylim(0, max(y_axis) + 10)\n",
    "\n",
    "plt.bar(x_axis,y_axis)\n",
    "\n",
    "for x,y in zip(x_axis,y_axis):\n",
    "\n",
    "    label = \"{:.0f}%\".format(y)\n",
    "\n",
    "    plt.annotate(label, # this is the text\n",
    "                 (x,y), # this is the point to label\n",
    "                 textcoords=\"offset points\", # how to position the text\n",
    "                 xytext=(0,10), # distance from text to points (x,y)\n",
    "                 ha='center') # horizontal alignment can be left, right or center\n",
    "\n",
    "plt.show()\n"
   ]
  },
  {
   "cell_type": "code",
   "execution_count": null,
   "metadata": {},
   "outputs": [],
   "source": []
  }
 ],
 "metadata": {
  "kernelspec": {
   "display_name": "Python [conda env:PythonData] *",
   "language": "python",
   "name": "conda-env-PythonData-py"
  },
  "language_info": {
   "codemirror_mode": {
    "name": "ipython",
    "version": 3
   },
   "file_extension": ".py",
   "mimetype": "text/x-python",
   "name": "python",
   "nbconvert_exporter": "python",
   "pygments_lexer": "ipython3",
   "version": "3.6.12"
  }
 },
 "nbformat": 4,
 "nbformat_minor": 4
}
